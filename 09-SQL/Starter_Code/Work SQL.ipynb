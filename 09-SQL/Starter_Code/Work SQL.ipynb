{
 "cells": [
  {
   "cell_type": "code",
   "execution_count": null,
   "id": "10e6400c",
   "metadata": {},
   "outputs": [],
   "source": [
    "-- Drop table\n",
    "DROP TABLE departments;\n",
    "\n",
    "-- Create new table\n",
    "CREATE TABLE departments (\n",
    "    dept_no TEXT PRIMARY KEY,\n",
    "    dept_name TEXT NOT NULL\n",
    ");"
   ]
  },
  {
   "cell_type": "code",
   "execution_count": null,
   "id": "bf44a6fd",
   "metadata": {},
   "outputs": [],
   "source": [
    "-- Drop table\n",
    "DROP TABLE dept_emp;\n",
    "\n",
    "-- Create new table\n",
    "CREATE TABLE dept_emp (\n",
    "    emp_no INT,\n",
    "    dept_no TEXT,\n",
    "    PRIMARY KEY (emp_no, dept_no),\n",
    "    FOREIGN KEY (emp_no) REFERENCES employees(emp_no),\n",
    "    FOREIGN KEY (dept_no) REFERENCES departments(dept_no)\n",
    ");\n"
   ]
  },
  {
   "cell_type": "code",
   "execution_count": null,
   "id": "159c1b92",
   "metadata": {},
   "outputs": [],
   "source": [
    "-- Drop table\n",
    "DROP TABLE dept_manager;\n",
    "\n",
    "-- Create new table\n",
    "CREATE TABLE dept_manager (\n",
    "    dept_no TEXT,\n",
    "    emp_no INT,\n",
    "    PRIMARY KEY (dept_no, emp_no),\n",
    "    FOREIGN KEY (dept_no) REFERENCES departments(dept_no),\n",
    "    FOREIGN KEY (emp_no) REFERENCES employees(emp_no)\n",
    ");\n"
   ]
  },
  {
   "cell_type": "code",
   "execution_count": null,
   "id": "ff52ceff",
   "metadata": {},
   "outputs": [],
   "source": [
    "-- Drop table\n",
    "DROP TABLE employees;\n",
    "\n",
    "-- Create new table\n",
    "CREATE TABLE employees (\n",
    "    emp_no INT PRIMARY KEY,\n",
    "    emp_title_id TEXT NOT NULL,\n",
    "    birth_date DATE,\n",
    "    first_name TEXT,\n",
    "    last_name TEXT,\n",
    "    sex TEXT,\n",
    "    hire_date DATE\n",
    ");\n"
   ]
  },
  {
   "cell_type": "code",
   "execution_count": null,
   "id": "401c1341",
   "metadata": {},
   "outputs": [],
   "source": [
    "-- Drop table\n",
    "DROP TABLE salaries;\n",
    "\n",
    "-- Create new table\n",
    "CREATE TABLE salaries (\n",
    "    emp_no INT,\n",
    "    salary INT,\n",
    "    FOREIGN KEY (emp_no) REFERENCES employees(emp_no)\n",
    ");\n"
   ]
  },
  {
   "cell_type": "code",
   "execution_count": null,
   "id": "03bfae86",
   "metadata": {},
   "outputs": [],
   "source": [
    "-- Drop table\n",
    "DROP TABLE titles;\n",
    "\n",
    "-- Create new table\n",
    "CREATE TABLE titles (\n",
    "    title_id TEXT PRIMARY KEY,\n",
    "    title TEXT\n",
    ");\n"
   ]
  },
  {
   "cell_type": "code",
   "execution_count": null,
   "id": "288c3490",
   "metadata": {},
   "outputs": [],
   "source": [
    "-- Import from employees & salaries CSV files into the tables\n",
    "COPY employees FROM 'path_to_employees.csv' DELIMITER ',' CSV HEADER;\n",
    "COPY salaries FROM 'path_to_salaries.csv' DELIMITER ',' CSV HEADER;\n",
    "\n",
    "-- Query to list employee details and salaries\n",
    "SELECT e.emp_no, e.last_name, e.first_name, e.sex, s.salary\n",
    "FROM employees e\n",
    "JOIN salaries s ON e.emp_no = s.emp_no;\n"
   ]
  },
  {
   "cell_type": "code",
   "execution_count": null,
   "id": "f24839dd",
   "metadata": {},
   "outputs": [],
   "source": [
    "-- Import data from employees CSV file\n",
    "COPY employees FROM 'path_to_employees.csv' DELIMITER ',' CSV HEADER;\n",
    "\n",
    "-- Query to list employees hired in 1986\n",
    "SELECT first_name, last_name, hire_date\n",
    "FROM employees\n",
    "WHERE EXTRACT(YEAR FROM hire_date) = 1986;\n"
   ]
  },
  {
   "cell_type": "code",
   "execution_count": null,
   "id": "9485a9e6",
   "metadata": {},
   "outputs": [],
   "source": [
    "-- Import data from departments, dept_manager & employees CSV files\n",
    "COPY departments FROM 'path_to_departments.csv' DELIMITER ',' CSV HEADER;\n",
    "COPY dept_manager FROM 'path_to_dept_manager.csv' DELIMITER ',' CSV HEADER;\n",
    "COPY employees FROM 'path_to_employees.csv' DELIMITER ',' CSV HEADER;\n",
    "\n",
    "-- Query to list the manager of each department with their details\n",
    "SELECT dm.dept_no, d.dept_name, dm.emp_no, e.last_name, e.first_name\n",
    "FROM dept_manager dm\n",
    "JOIN departments d ON dm.dept_no = d.dept_no\n",
    "JOIN employees e ON dm.emp_no = e.emp_no;\n"
   ]
  },
  {
   "cell_type": "code",
   "execution_count": null,
   "id": "0177ec0a",
   "metadata": {},
   "outputs": [],
   "source": [
    "-- Import data from departments, dept_emp, employees CSV files\n",
    "COPY departments FROM 'path_to_departments.csv' DELIMITER ',' CSV HEADER;\n",
    "COPY dept_emp FROM 'path_to_dept_emp.csv' DELIMITER ',' CSV HEADER;\n",
    "COPY employees FROM 'path_to_employees.csv' DELIMITER ',' CSV HEADER;\n",
    "\n",
    "-- Query to list the department number for each employee along with their details\n",
    "SELECT de.dept_no, e.emp_no, e.last_name, e.first_name, d.dept_name\n",
    "FROM dept_emp de\n",
    "JOIN employees e ON de.emp_no = e.emp_no\n",
    "JOIN departments d ON de.dept_no = d.dept_no;\n"
   ]
  },
  {
   "cell_type": "code",
   "execution_count": null,
   "id": "15a25a15",
   "metadata": {},
   "outputs": [],
   "source": [
    "-- Import data from employes CSV file\n",
    "COPY employees FROM 'path_to_employees.csv' DELIMITER ',' CSV HEADER;\n",
    "\n",
    "-- Query to list employees whose first name is Hercules and last name begins with the letter B\n",
    "SELECT first_name, last_name, sex\n",
    "FROM employees\n",
    "WHERE first_name = 'Hercules' AND last_name LIKE 'B%';\n"
   ]
  },
  {
   "cell_type": "code",
   "execution_count": null,
   "id": "7ea0be50",
   "metadata": {},
   "outputs": [],
   "source": [
    "-- Import data from departments, dept_emp and emploees CSV files\n",
    "COPY departments FROM 'path_to_departments.csv' DELIMITER ',' CSV HEADER;\n",
    "COPY dept_emp FROM 'path_to_dept_emp.csv' DELIMITER ',' CSV HEADER;\n",
    "COPY employees FROM 'path_to_employees.csv' DELIMITER ',' CSV HEADER;\n",
    "\n",
    "-- Query to list employees in the Sales department\n",
    "SELECT e.emp_no, e.last_name, e.first_name\n",
    "FROM employees e\n",
    "JOIN dept_emp de ON e.emp_no = de.emp_no\n",
    "JOIN departments d ON de.dept_no = d.dept_no\n",
    "WHERE d.dept_name = 'Sales';\n"
   ]
  },
  {
   "cell_type": "code",
   "execution_count": null,
   "id": "bee0a074",
   "metadata": {},
   "outputs": [],
   "source": [
    "-- Import data from departemtns, dept_em & employess CSV files into the tables\n",
    "COPY departments FROM 'path_to_departments.csv' DELIMITER ',' CSV HEADER;\n",
    "COPY dept_emp FROM 'path_to_dept_emp.csv' DELIMITER ',' CSV HEADER;\n",
    "COPY employees FROM 'path_to_employees.csv' DELIMITER ',' CSV HEADER;\n",
    "\n",
    "-- Query to list employees in the Sales and Development departments\n",
    "SELECT e.emp_no, e.last_name, e.first_name, d.dept_name\n",
    "FROM employees e\n",
    "JOIN dept_emp de ON e.emp_no = de.emp_no\n",
    "JOIN departments d ON de.dept_no = d.dept_no\n",
    "WHERE d.dept_name IN ('Sales', 'Development');\n"
   ]
  },
  {
   "cell_type": "code",
   "execution_count": null,
   "id": "98033664",
   "metadata": {},
   "outputs": [],
   "source": [
    "-- Import data from employees CSV file\n",
    "COPY employees FROM 'path_to_employees.csv' DELIMITER ',' CSV HEADER;\n",
    "\n",
    "-- Query to list the frequency counts of employee last names in descending order\n",
    "SELECT last_name, COUNT(*) AS frequency\n",
    "FROM employees\n",
    "GROUP BY last_name\n",
    "ORDER BY frequency DESC;\n"
   ]
  },
  {
   "cell_type": "code",
   "execution_count": null,
   "id": "b24fa0c9",
   "metadata": {},
   "outputs": [],
   "source": []
  }
 ],
 "metadata": {
  "kernelspec": {
   "display_name": "Python 3 (ipykernel)",
   "language": "python",
   "name": "python3"
  },
  "language_info": {
   "codemirror_mode": {
    "name": "ipython",
    "version": 3
   },
   "file_extension": ".py",
   "mimetype": "text/x-python",
   "name": "python",
   "nbconvert_exporter": "python",
   "pygments_lexer": "ipython3",
   "version": "3.11.3"
  }
 },
 "nbformat": 4,
 "nbformat_minor": 5
}
